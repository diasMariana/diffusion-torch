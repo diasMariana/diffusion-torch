{
 "cells": [
  {
   "cell_type": "markdown",
   "id": "d1575be5",
   "metadata": {},
   "source": [
    "# Imports & Globals"
   ]
  },
  {
   "cell_type": "code",
   "execution_count": null,
   "id": "8cc449c1",
   "metadata": {},
   "outputs": [],
   "source": [
    "import os\n",
    "import json\n",
    "import tempfile\n",
    "\n",
    "import torch\n",
    "from torchvision import transforms\n",
    "from torchvision.utils import make_grid\n",
    "\n",
    "from scripts.diffusion_utils import DiffusionManager\n",
    "from scripts.unet_openai import UNetModel\n",
    "\n",
    "import ffmpeg\n"
   ]
  },
  {
   "cell_type": "code",
   "execution_count": null,
   "id": "98e1015a",
   "metadata": {},
   "outputs": [],
   "source": [
    "CONFIG_PTH = \"configs/afhq.json\"\n",
    "DEVICE = torch.device(\"cuda\" if torch.cuda.is_available() else \"cpu\")"
   ]
  },
  {
   "cell_type": "markdown",
   "id": "3d463e76",
   "metadata": {},
   "source": [
    "# Parse config"
   ]
  },
  {
   "cell_type": "code",
   "execution_count": null,
   "id": "e915ee97",
   "metadata": {},
   "outputs": [],
   "source": [
    "with open(CONFIG_PTH) as f:\n",
    "    config = json.load(f)"
   ]
  },
  {
   "cell_type": "code",
   "execution_count": null,
   "id": "9be4258f",
   "metadata": {},
   "outputs": [],
   "source": [
    "hyperparams = config[\"hyperparams\"]\n",
    "data_dir = config[\"data_dir\"]\n",
    "model_params = config[\"model\"]"
   ]
  },
  {
   "cell_type": "markdown",
   "id": "77f2862e",
   "metadata": {},
   "source": [
    "# Noise scheduler"
   ]
  },
  {
   "cell_type": "code",
   "execution_count": null,
   "id": "fb4efea4",
   "metadata": {},
   "outputs": [],
   "source": [
    "diffusion_manager = DiffusionManager(\n",
    "    num_steps=hyperparams[\"num_steps\"],\n",
    "    beta_start=hyperparams[\"beta_start\"],\n",
    "    beta_end=hyperparams[\"beta_end\"],\n",
    "    beta_schedule=hyperparams[\"scheduler_mode\"],\n",
    "    training_method=\"v_prediction\" if hyperparams[\"v_prediction\"] else \"noise\",\n",
    ")"
   ]
  },
  {
   "cell_type": "markdown",
   "id": "df87ca02",
   "metadata": {},
   "source": [
    "# Model"
   ]
  },
  {
   "cell_type": "code",
   "execution_count": null,
   "id": "4c23918d",
   "metadata": {},
   "outputs": [],
   "source": [
    "# Following the procedure in https://github.com/VSehwag/minimal-diffusion/blob/main/unets.py\n",
    "attention_ds = []\n",
    "attention_resolutions = model_params[\"attention_resolutions\"]\n",
    "for res in attention_resolutions.split(\",\"):\n",
    "    attention_ds.append(model_params[\"img_size\"] // int(res))"
   ]
  },
  {
   "cell_type": "code",
   "execution_count": null,
   "id": "d92bdb2f",
   "metadata": {},
   "outputs": [],
   "source": [
    "model = UNetModel(\n",
    "    image_size=model_params[\"img_size\"],\n",
    "    in_channels=model_params[\"in_channels\"],\n",
    "    model_channels=model_params[\"base_width\"],\n",
    "    out_channels=model_params[\"in_channels\"],\n",
    "    num_res_blocks=3,\n",
    "    attention_resolutions=tuple(attention_ds),\n",
    "    dropout=0.1,\n",
    "    channel_mult=model_params[\"channel_mult\"],\n",
    "    num_classes=None,\n",
    "    use_checkpoint=False,\n",
    "    use_fp16=False,\n",
    "    num_heads=4,\n",
    "    num_head_channels=64,\n",
    "    num_heads_upsample=-1,\n",
    "    use_scale_shift_norm=True,\n",
    "    resblock_updown=True,\n",
    "    use_new_attention_order=True,\n",
    ").to(DEVICE)\n",
    "model.eval()"
   ]
  },
  {
   "cell_type": "code",
   "execution_count": null,
   "id": "4ef44ff3",
   "metadata": {},
   "outputs": [],
   "source": [
    "model.load_state_dict(torch.load(\"weights/afhq/weights_11-6-2025_7_59_28.pth\"))"
   ]
  },
  {
   "cell_type": "markdown",
   "id": "aa158a8b",
   "metadata": {},
   "source": [
    "# Image sampler"
   ]
  },
  {
   "cell_type": "code",
   "execution_count": null,
   "id": "9094d0b2",
   "metadata": {},
   "outputs": [],
   "source": [
    "def images_to_video(frame_dir, fname, framerate=200):\n",
    "    _ = (\n",
    "        ffmpeg.input(\n",
    "            f\"{frame_dir}/*.png\", pattern_type=\"glob\", framerate=framerate\n",
    "        )\n",
    "        .output(fname)\n",
    "        .run()\n",
    "    )\n",
    "    "
   ]
  },
  {
   "cell_type": "code",
   "execution_count": null,
   "id": "94eda2ff",
   "metadata": {},
   "outputs": [],
   "source": [
    "@torch.no_grad()\n",
    "def sample(model, config, out_dir):\n",
    "    \"\"\"\n",
    "    Starting from a normal distribution with mean 0 and variance 1, denoise progressively\n",
    "    until we get an image that could belong to the pdf representing the training\n",
    "    data.\n",
    "    \"\"\"\n",
    "    noise = torch.randn(\n",
    "        (\n",
    "            config[\"sampling\"][\"num_samples\"],\n",
    "            model_params[\"in_channels\"],\n",
    "            model_params[\"img_size\"],\n",
    "            model_params[\"img_size\"],\n",
    "        )\n",
    "    ).to(DEVICE)\n",
    "    \n",
    "\n",
    "    imgs = diffusion_manager.sample(model, noise)\n",
    "    for counter, item in enumerate(imgs):\n",
    "        item = torch.clamp(item, -1.0, 1.0).detach().cpu()\n",
    "        item = (item + 1) / 2\n",
    "        grid = make_grid(item, nrow=config[\"sampling\"][\"num_grid_rows\"])\n",
    "        img = transforms.ToPILImage()(grid)\n",
    "        img.save(os.path.join(out_dir, f\"{counter:04}.png\"))\n",
    "    \n",
    "    # Show denoised samples\n",
    "    ims = torch.clamp(imgs[-1], -1.0, 1.0).detach().cpu()\n",
    "    ims = (ims + 1) / 2\n",
    "    grid = make_grid(ims, nrow=config[\"sampling\"][\"num_grid_rows\"])\n",
    "    img = transforms.ToPILImage()(grid)\n",
    "    img = img.resize(( int(img.width * 3), int(img.height * 3)))\n",
    "    display(img)\n",
    "\n",
    "    return img"
   ]
  },
  {
   "cell_type": "code",
   "execution_count": null,
   "id": "6d7527e8",
   "metadata": {},
   "outputs": [],
   "source": [
    "temp_dir = tempfile.TemporaryDirectory()\n",
    "final_image = sample(model, config, temp_dir.name)\n",
    "final_image.save(\"demo.jpg\")\n",
    "images_to_video(temp_dir.name, \"demo.mp4\")\n",
    "temp_dir.cleanup()"
   ]
  }
 ],
 "metadata": {
  "kernelspec": {
   "display_name": ".venv",
   "language": "python",
   "name": "python3"
  },
  "language_info": {
   "codemirror_mode": {
    "name": "ipython",
    "version": 3
   },
   "file_extension": ".py",
   "mimetype": "text/x-python",
   "name": "python",
   "nbconvert_exporter": "python",
   "pygments_lexer": "ipython3",
   "version": "3.12.3"
  }
 },
 "nbformat": 4,
 "nbformat_minor": 5
}
